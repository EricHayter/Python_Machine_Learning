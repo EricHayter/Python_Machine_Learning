{
 "cells": [
  {
   "cell_type": "markdown",
   "metadata": {},
   "source": [
    "# Sandbox For Learning TensorFlow"
   ]
  },
  {
   "cell_type": "markdown",
   "metadata": {},
   "source": [
    "import tensorflow"
   ]
  },
  {
   "cell_type": "code",
   "execution_count": 1,
   "metadata": {},
   "outputs": [],
   "source": [
    "import tensorflow as tf\n",
    "from matplotlib import pyplot as plt\n",
    "import numpy as np"
   ]
  },
  {
   "cell_type": "markdown",
   "metadata": {},
   "source": [
    "Checking to see if tensorflow is using accelerated hardware"
   ]
  },
  {
   "cell_type": "code",
   "execution_count": 15,
   "metadata": {},
   "outputs": [
    {
     "name": "stdout",
     "output_type": "stream",
     "text": [
      "TensorFlow **IS NOT** using the GPU\n"
     ]
    }
   ],
   "source": [
    "if tf.config.list_physical_devices('GPU'):\n",
    "  print(\"TensorFlow **IS** using the GPU\")\n",
    "else:\n",
    "  print(\"TensorFlow **IS NOT** using the GPU\")"
   ]
  },
  {
   "cell_type": "markdown",
   "metadata": {},
   "source": [
    "create a variable: x."
   ]
  },
  {
   "cell_type": "code",
   "execution_count": 11,
   "metadata": {},
   "outputs": [
    {
     "name": "stdout",
     "output_type": "stream",
     "text": [
      "tf.Tensor(\n",
      "[[1 2 3]\n",
      " [4 5 6]], shape=(2, 3), dtype=int32)\n",
      "(2, 3)\n",
      "<dtype: 'int32'>\n"
     ]
    }
   ],
   "source": [
    "x = tf.constant([[1,2,3],[4,5,6]])\n",
    "print(x)\n",
    "print(x.shape)\n",
    "print(x.dtype)"
   ]
  },
  {
   "cell_type": "code",
   "execution_count": 14,
   "metadata": {},
   "outputs": [
    {
     "name": "stdout",
     "output_type": "stream",
     "text": [
      "tf.Tensor(\n",
      "[[ 6  7  8]\n",
      " [ 9 10 11]], shape=(2, 3), dtype=int32)\n",
      "tf.Tensor(\n",
      "[[ 2  4  6]\n",
      " [ 8 10 12]], shape=(2, 3), dtype=int32)\n",
      "tf.Tensor(\n",
      "[[1 2 3 1 2 3 1 2 3]\n",
      " [4 5 6 4 5 6 4 5 6]], shape=(2, 9), dtype=int32)\n",
      "tf.Tensor(21, shape=(), dtype=int32)\n"
     ]
    }
   ],
   "source": [
    "print(x + 5)  # adding 5 to each value of x\n",
    "print(x * 2)  # multiplying each value of x by 2\n",
    "print(tf.concat([x, x, x], axis=1)) # concatenating the tensors together side by side\n",
    "print(tf.reduce_sum(x)) # finds the sum of all of the elements in the tensor"
   ]
  },
  {
   "cell_type": "code",
   "execution_count": 19,
   "metadata": {},
   "outputs": [
    {
     "data": {
      "text/plain": [
       "<tf.Variable 'UnreadVariable' shape=(3,) dtype=int32, numpy=array([2, 3, 4])>"
      ]
     },
     "execution_count": 19,
     "metadata": {},
     "output_type": "execute_result"
    }
   ],
   "source": [
    "var = tf.Variable([0,0,0]) # creating a variable\n",
    "var.assign([1,2,3]) # assigning values to the variable\n",
    "var.assign_add([1,1,1]) # adding values to each element of the tensor and saving it"
   ]
  },
  {
   "cell_type": "markdown",
   "metadata": {},
   "source": [
    "Tensorflow can apparently find the derrivatives of functions. This comes in very useful for things like gradient decent when calculating the loss and error of a model given a set of weights."
   ]
  },
  {
   "cell_type": "code",
   "execution_count": 25,
   "metadata": {},
   "outputs": [
    {
     "data": {
      "text/plain": [
       "<tf.Tensor: shape=(), dtype=float32, numpy=4.0>"
      ]
     },
     "execution_count": 25,
     "metadata": {},
     "output_type": "execute_result"
    }
   ],
   "source": [
    "x = tf.Variable(1.0)\n",
    "\n",
    "# we create a random function\n",
    "def f(x):\n",
    "    y = x**2 + 2*x - 5\n",
    "    return y\n",
    "\n",
    "f(x) # this will return -2 because f(1) = -2\n",
    "\n",
    "# this will find the derrivative of a function\n",
    "with tf.GradientTape() as tape:\n",
    "    y = f(x)\n",
    "\n",
    "g_x = tape.gradient(y, x)  # g(x) = dy/dx\n",
    "\n",
    "g_x"
   ]
  },
  {
   "cell_type": "markdown",
   "metadata": {},
   "source": [
    "Tensorflow also provides tools for optimization and saving your models once they are done training. To do this you are required to using tf.function. When making a tensorflow functions with the @tf.function it is called a graph and can be used to significantly speed up calculations and can also be exports on a system without a python installation."
   ]
  },
  {
   "cell_type": "code",
   "execution_count": 34,
   "metadata": {},
   "outputs": [
    {
     "name": "stdout",
     "output_type": "stream",
     "text": [
      "Tracing.\n",
      "\n",
      "^ Unoptimized Function\n",
      "Optimized Function\n"
     ]
    }
   ],
   "source": [
    "@tf.function\n",
    "def my_func(x): # this is our graph\n",
    "  print('Tracing.\\n')\n",
    "  return tf.reduce_sum(x)\n",
    "\n",
    "x = tf.constant([1,2,3])\n",
    "\n",
    "my_func(x) # first call will be unoptimized and still call python methods\n",
    "my_func(x) # second and subsequent calls will just use TF."
   ]
  },
  {
   "cell_type": "markdown",
   "metadata": {},
   "source": [
    "modules are a useful tool in tensorflow because they can allow you to save the values of your variables while training allowing you to load and save them with ease (using tf.train.Checkpoint). Additionally, you can save your variables and models which can allow you to run your model independently from your python code (using tf.saved_model)."
   ]
  },
  {
   "cell_type": "code",
   "execution_count": 36,
   "metadata": {},
   "outputs": [],
   "source": [
    "class MyModule(tf.Module): # create our module\n",
    "  def __init__(self, value): # constructor \n",
    "    self.weight = tf.Variable(value) \n",
    "\n",
    "  @tf.function # create a function\n",
    "  def multiply(self, x): \n",
    "    return x * self.weight # multiply a value by the weight "
   ]
  },
  {
   "cell_type": "markdown",
   "metadata": {},
   "source": [
    "testing the module"
   ]
  },
  {
   "cell_type": "code",
   "execution_count": 59,
   "metadata": {},
   "outputs": [
    {
     "name": "stdout",
     "output_type": "stream",
     "text": [
      "WARNING:tensorflow:8 out of the last 8 calls to <function MyModule.multiply at 0x0000022AB153B8B0> triggered tf.function retracing. Tracing is expensive and the excessive number of tracings could be due to (1) creating @tf.function repeatedly in a loop, (2) passing tensors with different shapes, (3) passing Python objects instead of tensors. For (1), please define your @tf.function outside of the loop. For (2), @tf.function has experimental_relax_shapes=True option that relaxes argument shapes that can avoid unnecessary retracing. For (3), please refer to https://www.tensorflow.org/tutorials/customization/performance#python_or_tensor_args and https://www.tensorflow.org/api_docs/python/tf/function for  more details.\n"
     ]
    },
    {
     "data": {
      "text/plain": [
       "<tf.Tensor: shape=(3,), dtype=int32, numpy=array([3, 6, 9])>"
      ]
     },
     "execution_count": 59,
     "metadata": {},
     "output_type": "execute_result"
    }
   ],
   "source": [
    "mod = MyModule(3)\n",
    "mod.multiply(tf.constant([1, 2, 3]))"
   ]
  },
  {
   "cell_type": "markdown",
   "metadata": {},
   "source": [
    "saving our module"
   ]
  },
  {
   "cell_type": "code",
   "execution_count": 60,
   "metadata": {},
   "outputs": [
    {
     "name": "stdout",
     "output_type": "stream",
     "text": [
      "INFO:tensorflow:Assets written to: ./saved\\assets\n"
     ]
    }
   ],
   "source": [
    "save_path = './saved'\n",
    "tf.saved_model.save(mod, save_path) # saving our module to the path \"./saved\""
   ]
  },
  {
   "cell_type": "markdown",
   "metadata": {},
   "source": [
    "reloading our module is as easy as."
   ]
  },
  {
   "cell_type": "code",
   "execution_count": 62,
   "metadata": {},
   "outputs": [
    {
     "data": {
      "text/plain": [
       "<tf.Tensor: shape=(3,), dtype=int32, numpy=array([45,  6,  9])>"
      ]
     },
     "execution_count": 62,
     "metadata": {},
     "output_type": "execute_result"
    }
   ],
   "source": [
    "reloaded = tf.saved_model.load(save_path)\n",
    "reloaded.multiply(tf.constant([15, 2, 3]))"
   ]
  },
  {
   "cell_type": "markdown",
   "metadata": {},
   "source": [
    "let try training loops"
   ]
  },
  {
   "cell_type": "code",
   "execution_count": 2,
   "metadata": {},
   "outputs": [
    {
     "data": {
      "image/png": "[encoded data removed]",
      "text/plain": [
       "<Figure size 648x432 with 1 Axes>"
      ]
     },
     "metadata": {
      "needs_background": "light"
     },
     "output_type": "display_data"
    }
   ],
   "source": [
    "plt.figure(figsize=(9,6))\n",
    "\n",
    "x = tf.linspace(-2, 2, 201) # creating a set of values from -2 to 2 with 201 values\n",
    "x = tf.cast(x, tf.float32) # changing the type of the values to float32\n",
    "\n",
    "def f(x): # creating a simple function\n",
    "    y = x**2 + 2*x - 5\n",
    "    return y\n",
    "\n",
    "# adding some randomness to each point on the graph\n",
    "y = f(x) + tf.random.normal(shape=[201]) # random values are based off of a normal distribution\n",
    "\n",
    "plt.plot(x, y.numpy(), '.', label='Data') # plot each of the points of y and x\n",
    "plt.plot(x, f(x),  label='Ground truth') # printing the actual values from the function and generated x values\n",
    "plt.legend();\n",
    "\n"
   ]
  },
  {
   "cell_type": "markdown",
   "metadata": {},
   "source": [
    "Let's create the model"
   ]
  },
  {
   "cell_type": "code",
   "execution_count": 7,
   "metadata": {},
   "outputs": [],
   "source": [
    "class Model(tf.keras.Model):\n",
    "    def __init__(self, units):\n",
    "        super().__init__(\n",
    "        )  # inherrit the functionality of the super object (tf.keras.Model).\n",
    "        self.dense1 = tf.keras.layers.Dense(\n",
    "            units=units,\n",
    "            activation=tf.nn.relu,\n",
    "            kernel_initializer=tf.random.normal,\n",
    "            bias_initializer=tf.random.normal) # giving a random bias from a normal distribution\n",
    "        self.dense2 = tf.keras.layers.Dense(1) # our ouput should just be one value\n",
    "\n",
    "    # use 'call' instead of '__call__' on keras models\n",
    "    def call(self, x, training=True):\n",
    "        x = x[:,tf.newaxis]\n",
    "        x = self.dense1(x)\n",
    "        x = self.dense2(x)\n",
    "        return tf.squeeze(x,axis=1)"
   ]
  },
  {
   "cell_type": "code",
   "execution_count": 12,
   "metadata": {},
   "outputs": [],
   "source": [
    "model = Model(64)\n"
   ]
  },
  {
   "cell_type": "code",
   "execution_count": 13,
   "metadata": {},
   "outputs": [
    {
     "data": {
      "image/png": "[encoded data removed]",
      "text/plain": [
       "<Figure size 432x288 with 1 Axes>"
      ]
     },
     "metadata": {
      "needs_background": "light"
     },
     "output_type": "display_data"
    }
   ],
   "source": [
    "plt.plot(x.numpy(), y.numpy(), '.', label='data') # plot the randomly generated points\n",
    "plt.plot(x, f(x),  label='Ground truth') # print what the function should actually look like\n",
    "plt.plot(x, model(x), label='Untrained predictions') # these are the prediction that are made using the data\n",
    "plt.title('Before training')\n",
    "plt.legend();"
   ]
  }
 ],
 "metadata": {
  "interpreter": {
   "hash": "05ddc6ec5474a1f626a2be7b32cdbbeeb8d0940e4dc5109586420296a02a5144"
  },
  "kernelspec": {
   "display_name": "Python 3.8.12 ('ml')",
   "language": "python",
   "name": "python3"
  },
  "language_info": {
   "codemirror_mode": {
    "name": "ipython",
    "version": 3
   },
   "file_extension": ".py",
   "mimetype": "text/x-python",
   "name": "python",
   "nbconvert_exporter": "python",
   "pygments_lexer": "ipython3",
   "version": "3.8.12"
  },
  "orig_nbformat": 4
 },
 "nbformat": 4,
 "nbformat_minor": 2
}
