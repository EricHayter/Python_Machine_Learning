{
 "cells": [
  {
   "cell_type": "markdown",
   "metadata": {},
   "source": [
    "# Sandbox For Learning TensorFlow"
   ]
  },
  {
   "cell_type": "markdown",
   "metadata": {},
   "source": [
    "import tensorflow"
   ]
  },
  {
   "cell_type": "code",
   "execution_count": 9,
   "metadata": {},
   "outputs": [],
   "source": [
    "import tensorflow as tf"
   ]
  },
  {
   "cell_type": "markdown",
   "metadata": {},
   "source": [
    "Checking to see if tensorflow is using accelerated hardware"
   ]
  },
  {
   "cell_type": "code",
   "execution_count": 15,
   "metadata": {},
   "outputs": [
    {
     "name": "stdout",
     "output_type": "stream",
     "text": [
      "TensorFlow **IS NOT** using the GPU\n"
     ]
    }
   ],
   "source": [
    "if tf.config.list_physical_devices('GPU'):\n",
    "  print(\"TensorFlow **IS** using the GPU\")\n",
    "else:\n",
    "  print(\"TensorFlow **IS NOT** using the GPU\")"
   ]
  },
  {
   "cell_type": "markdown",
   "metadata": {},
   "source": [
    "create a variable: x."
   ]
  },
  {
   "cell_type": "code",
   "execution_count": 11,
   "metadata": {},
   "outputs": [
    {
     "name": "stdout",
     "output_type": "stream",
     "text": [
      "tf.Tensor(\n",
      "[[1 2 3]\n",
      " [4 5 6]], shape=(2, 3), dtype=int32)\n",
      "(2, 3)\n",
      "<dtype: 'int32'>\n"
     ]
    }
   ],
   "source": [
    "x = tf.constant([[1,2,3],[4,5,6]])\n",
    "print(x)\n",
    "print(x.shape)\n",
    "print(x.dtype)"
   ]
  },
  {
   "cell_type": "code",
   "execution_count": 14,
   "metadata": {},
   "outputs": [
    {
     "name": "stdout",
     "output_type": "stream",
     "text": [
      "tf.Tensor(\n",
      "[[ 6  7  8]\n",
      " [ 9 10 11]], shape=(2, 3), dtype=int32)\n",
      "tf.Tensor(\n",
      "[[ 2  4  6]\n",
      " [ 8 10 12]], shape=(2, 3), dtype=int32)\n",
      "tf.Tensor(\n",
      "[[1 2 3 1 2 3 1 2 3]\n",
      " [4 5 6 4 5 6 4 5 6]], shape=(2, 9), dtype=int32)\n",
      "tf.Tensor(21, shape=(), dtype=int32)\n"
     ]
    }
   ],
   "source": [
    "print(x + 5)  # adding 5 to each value of x\n",
    "print(x * 2)  # multiplying each value of x by 2\n",
    "print(tf.concat([x, x, x], axis=1)) # concatenating the tensors together side by side\n",
    "print(tf.reduce_sum(x)) # finds the sum of all of the elements in the tensor"
   ]
  },
  {
   "cell_type": "code",
   "execution_count": 19,
   "metadata": {},
   "outputs": [
    {
     "data": {
      "text/plain": [
       "<tf.Variable 'UnreadVariable' shape=(3,) dtype=int32, numpy=array([2, 3, 4])>"
      ]
     },
     "execution_count": 19,
     "metadata": {},
     "output_type": "execute_result"
    }
   ],
   "source": [
    "var = tf.Variable([0,0,0]) # creating a variable\n",
    "var.assign([1,2,3]) # assigning values to the variable\n",
    "var.assign_add([1,1,1]) # adding values to each element of the tensor and saving it"
   ]
  },
  {
   "cell_type": "markdown",
   "metadata": {},
   "source": [
    "Tensorflow can apparently find the derrivatives of functions. This comes in very useful for things like gradient decent when calculating the loss and error of a model given a set of weights."
   ]
  },
  {
   "cell_type": "code",
   "execution_count": 25,
   "metadata": {},
   "outputs": [
    {
     "data": {
      "text/plain": [
       "<tf.Tensor: shape=(), dtype=float32, numpy=4.0>"
      ]
     },
     "execution_count": 25,
     "metadata": {},
     "output_type": "execute_result"
    }
   ],
   "source": [
    "x = tf.Variable(1.0)\n",
    "\n",
    "# we create a random function\n",
    "def f(x):\n",
    "    y = x**2 + 2*x - 5\n",
    "    return y\n",
    "\n",
    "f(x) # this will return -2 because f(1) = -2\n",
    "\n",
    "# this will find the derrivative of a function\n",
    "with tf.GradientTape() as tape:\n",
    "    y = f(x)\n",
    "\n",
    "g_x = tape.gradient(y, x)  # g(x) = dy/dx\n",
    "\n",
    "g_x"
   ]
  },
  {
   "cell_type": "markdown",
   "metadata": {},
   "source": [
    "Tensorflow also provides tools for optimization and saving your models once they are done training. To do this you are required to using tf.function. When making a tensorflow functions with the @tf.function it is called a graph and can be used to significantly speed up calculations and can also be exports on a system without a python installation."
   ]
  },
  {
   "cell_type": "code",
   "execution_count": 34,
   "metadata": {},
   "outputs": [
    {
     "name": "stdout",
     "output_type": "stream",
     "text": [
      "Tracing.\n",
      "\n",
      "^ Unoptimized Function\n",
      "Optimized Function\n"
     ]
    }
   ],
   "source": [
    "@tf.function\n",
    "def my_func(x): # this is our graph\n",
    "  print('Tracing.\\n')\n",
    "  return tf.reduce_sum(x)\n",
    "\n",
    "x = tf.constant([1,2,3])\n",
    "\n",
    "my_func(x) # first call will be unoptimized and still call python methods\n",
    "my_func(x) # second and subsequent calls will just use TF."
   ]
  },
  {
   "cell_type": "markdown",
   "metadata": {},
   "source": [
    "modules are a useful tool in tensorflow because they can allow you to save the values of your variables while training allowing you to load and save them with ease (using tf.train.Checkpoint). Additionally, you can save your variables and models which can allow you to run your model independently from your python code (using tf.saved_model)."
   ]
  },
  {
   "cell_type": "code",
   "execution_count": 36,
   "metadata": {},
   "outputs": [],
   "source": [
    "class MyModule(tf.Module): # create our module\n",
    "  def __init__(self, value): # constructor \n",
    "    self.weight = tf.Variable(value) \n",
    "\n",
    "  @tf.function # create a function\n",
    "  def multiply(self, x): \n",
    "    return x * self.weight # multiply a value by the weight "
   ]
  },
  {
   "cell_type": "markdown",
   "metadata": {},
   "source": [
    "testing the module"
   ]
  },
  {
   "cell_type": "code",
   "execution_count": 59,
   "metadata": {},
   "outputs": [
    {
     "name": "stdout",
     "output_type": "stream",
     "text": [
      "WARNING:tensorflow:8 out of the last 8 calls to <function MyModule.multiply at 0x0000022AB153B8B0> triggered tf.function retracing. Tracing is expensive and the excessive number of tracings could be due to (1) creating @tf.function repeatedly in a loop, (2) passing tensors with different shapes, (3) passing Python objects instead of tensors. For (1), please define your @tf.function outside of the loop. For (2), @tf.function has experimental_relax_shapes=True option that relaxes argument shapes that can avoid unnecessary retracing. For (3), please refer to https://www.tensorflow.org/tutorials/customization/performance#python_or_tensor_args and https://www.tensorflow.org/api_docs/python/tf/function for  more details.\n"
     ]
    },
    {
     "data": {
      "text/plain": [
       "<tf.Tensor: shape=(3,), dtype=int32, numpy=array([3, 6, 9])>"
      ]
     },
     "execution_count": 59,
     "metadata": {},
     "output_type": "execute_result"
    }
   ],
   "source": [
    "mod = MyModule(3)\n",
    "mod.multiply(tf.constant([1, 2, 3]))"
   ]
  },
  {
   "cell_type": "markdown",
   "metadata": {},
   "source": [
    "saving our module"
   ]
  },
  {
   "cell_type": "code",
   "execution_count": 51,
   "metadata": {},
   "outputs": [
    {
     "name": "stdout",
     "output_type": "stream",
     "text": [
      "INFO:tensorflow:Assets written to: ./saved\\assets\n"
     ]
    }
   ],
   "source": [
    "save_path = './saved'\n",
    "tf.saved_model.save(mod, save_path) # saving our module to the path \"./saved\""
   ]
  },
  {
   "cell_type": "markdown",
   "metadata": {},
   "source": [
    "reloading our module is as easy as."
   ]
  },
  {
   "cell_type": "code",
   "execution_count": 52,
   "metadata": {},
   "outputs": [],
   "source": [
    "reloaded = tf.saved_model.load(save_path)\n",
    "#reloaded.multiply(tf.Variable([7, 4, 2]))"
   ]
  },
  {
   "cell_type": "code",
   "execution_count": 57,
   "metadata": {},
   "outputs": [
    {
     "name": "stdout",
     "output_type": "stream",
     "text": [
      "WARNING:tensorflow:6 out of the last 6 calls to <function MyModule.multiply at 0x0000022AB2166F70> triggered tf.function retracing. Tracing is expensive and the excessive number of tracings could be due to (1) creating @tf.function repeatedly in a loop, (2) passing tensors with different shapes, (3) passing Python objects instead of tensors. For (1), please define your @tf.function outside of the loop. For (2), @tf.function has experimental_relax_shapes=True option that relaxes argument shapes that can avoid unnecessary retracing. For (3), please refer to https://www.tensorflow.org/tutorials/customization/performance#python_or_tensor_args and https://www.tensorflow.org/api_docs/python/tf/function for  more details.\n"
     ]
    },
    {
     "ename": "ValueError",
     "evalue": "Could not find matching function to call loaded from the SavedModel. Got:\n  Positional arguments (1 total):\n    * 2\n  Keyword arguments: {}\n\nExpected these arguments to match one of the following 1 option(s):\n\nOption 1:\n  Positional arguments (1 total):\n    * VariableSpec(shape=(3,), dtype=tf.int32, name='x')\n  Keyword arguments: {}",
     "output_type": "error",
     "traceback": [
      "\u001b[1;31m---------------------------------------------------------------------------\u001b[0m",
      "\u001b[1;31mValueError\u001b[0m                                Traceback (most recent call last)",
      "\u001b[1;32mc:\\Users\\hayte\\Desktop\\Python_Machine_Learning\\sandbox.ipynb Cell 22'\u001b[0m in \u001b[0;36m<cell line: 2>\u001b[1;34m()\u001b[0m\n\u001b[0;32m      <a href='vscode-notebook-cell:/c%3A/Users/hayte/Desktop/Python_Machine_Learning/sandbox.ipynb#ch0000023?line=0'>1</a>\u001b[0m mod\u001b[39m.\u001b[39mmultiply(tf\u001b[39m.\u001b[39mVariable([\u001b[39m1\u001b[39m,\u001b[39m2\u001b[39m,\u001b[39m3\u001b[39m]))\n\u001b[1;32m----> <a href='vscode-notebook-cell:/c%3A/Users/hayte/Desktop/Python_Machine_Learning/sandbox.ipynb#ch0000023?line=1'>2</a>\u001b[0m reloaded\u001b[39m.\u001b[39;49mmultiply(\u001b[39m2\u001b[39;49m)\n",
      "File \u001b[1;32m~\\Anaconda3\\envs\\ml\\lib\\site-packages\\tensorflow\\python\\eager\\def_function.py:780\u001b[0m, in \u001b[0;36mFunction.__call__\u001b[1;34m(self, *args, **kwds)\u001b[0m\n\u001b[0;32m    <a href='file:///c%3A/Users/hayte/Anaconda3/envs/ml/lib/site-packages/tensorflow/python/eager/def_function.py?line=777'>778</a>\u001b[0m \u001b[39melse\u001b[39;00m:\n\u001b[0;32m    <a href='file:///c%3A/Users/hayte/Anaconda3/envs/ml/lib/site-packages/tensorflow/python/eager/def_function.py?line=778'>779</a>\u001b[0m   compiler \u001b[39m=\u001b[39m \u001b[39m\"\u001b[39m\u001b[39mnonXla\u001b[39m\u001b[39m\"\u001b[39m\n\u001b[1;32m--> <a href='file:///c%3A/Users/hayte/Anaconda3/envs/ml/lib/site-packages/tensorflow/python/eager/def_function.py?line=779'>780</a>\u001b[0m   result \u001b[39m=\u001b[39m \u001b[39mself\u001b[39;49m\u001b[39m.\u001b[39;49m_call(\u001b[39m*\u001b[39;49margs, \u001b[39m*\u001b[39;49m\u001b[39m*\u001b[39;49mkwds)\n\u001b[0;32m    <a href='file:///c%3A/Users/hayte/Anaconda3/envs/ml/lib/site-packages/tensorflow/python/eager/def_function.py?line=781'>782</a>\u001b[0m new_tracing_count \u001b[39m=\u001b[39m \u001b[39mself\u001b[39m\u001b[39m.\u001b[39m_get_tracing_count()\n\u001b[0;32m    <a href='file:///c%3A/Users/hayte/Anaconda3/envs/ml/lib/site-packages/tensorflow/python/eager/def_function.py?line=782'>783</a>\u001b[0m without_tracing \u001b[39m=\u001b[39m (tracing_count \u001b[39m==\u001b[39m new_tracing_count)\n",
      "File \u001b[1;32m~\\Anaconda3\\envs\\ml\\lib\\site-packages\\tensorflow\\python\\eager\\def_function.py:814\u001b[0m, in \u001b[0;36mFunction._call\u001b[1;34m(self, *args, **kwds)\u001b[0m\n\u001b[0;32m    <a href='file:///c%3A/Users/hayte/Anaconda3/envs/ml/lib/site-packages/tensorflow/python/eager/def_function.py?line=810'>811</a>\u001b[0m \u001b[39mself\u001b[39m\u001b[39m.\u001b[39m_lock\u001b[39m.\u001b[39mrelease()\n\u001b[0;32m    <a href='file:///c%3A/Users/hayte/Anaconda3/envs/ml/lib/site-packages/tensorflow/python/eager/def_function.py?line=811'>812</a>\u001b[0m \u001b[39m# In this case we have not created variables on the first call. So we can\u001b[39;00m\n\u001b[0;32m    <a href='file:///c%3A/Users/hayte/Anaconda3/envs/ml/lib/site-packages/tensorflow/python/eager/def_function.py?line=812'>813</a>\u001b[0m \u001b[39m# run the first trace but we should fail if variables are created.\u001b[39;00m\n\u001b[1;32m--> <a href='file:///c%3A/Users/hayte/Anaconda3/envs/ml/lib/site-packages/tensorflow/python/eager/def_function.py?line=813'>814</a>\u001b[0m results \u001b[39m=\u001b[39m \u001b[39mself\u001b[39;49m\u001b[39m.\u001b[39;49m_stateful_fn(\u001b[39m*\u001b[39;49margs, \u001b[39m*\u001b[39;49m\u001b[39m*\u001b[39;49mkwds)\n\u001b[0;32m    <a href='file:///c%3A/Users/hayte/Anaconda3/envs/ml/lib/site-packages/tensorflow/python/eager/def_function.py?line=814'>815</a>\u001b[0m \u001b[39mif\u001b[39;00m \u001b[39mself\u001b[39m\u001b[39m.\u001b[39m_created_variables:\n\u001b[0;32m    <a href='file:///c%3A/Users/hayte/Anaconda3/envs/ml/lib/site-packages/tensorflow/python/eager/def_function.py?line=815'>816</a>\u001b[0m   \u001b[39mraise\u001b[39;00m \u001b[39mValueError\u001b[39;00m(\u001b[39m\"\u001b[39m\u001b[39mCreating variables on a non-first call to a function\u001b[39m\u001b[39m\"\u001b[39m\n\u001b[0;32m    <a href='file:///c%3A/Users/hayte/Anaconda3/envs/ml/lib/site-packages/tensorflow/python/eager/def_function.py?line=816'>817</a>\u001b[0m                    \u001b[39m\"\u001b[39m\u001b[39m decorated with tf.function.\u001b[39m\u001b[39m\"\u001b[39m)\n",
      "File \u001b[1;32m~\\Anaconda3\\envs\\ml\\lib\\site-packages\\tensorflow\\python\\eager\\function.py:2828\u001b[0m, in \u001b[0;36mFunction.__call__\u001b[1;34m(self, *args, **kwargs)\u001b[0m\n\u001b[0;32m   <a href='file:///c%3A/Users/hayte/Anaconda3/envs/ml/lib/site-packages/tensorflow/python/eager/function.py?line=2825'>2826</a>\u001b[0m \u001b[39m\"\"\"Calls a graph function specialized to the inputs.\"\"\"\u001b[39;00m\n\u001b[0;32m   <a href='file:///c%3A/Users/hayte/Anaconda3/envs/ml/lib/site-packages/tensorflow/python/eager/function.py?line=2826'>2827</a>\u001b[0m \u001b[39mwith\u001b[39;00m \u001b[39mself\u001b[39m\u001b[39m.\u001b[39m_lock:\n\u001b[1;32m-> <a href='file:///c%3A/Users/hayte/Anaconda3/envs/ml/lib/site-packages/tensorflow/python/eager/function.py?line=2827'>2828</a>\u001b[0m   graph_function, args, kwargs \u001b[39m=\u001b[39m \u001b[39mself\u001b[39;49m\u001b[39m.\u001b[39;49m_maybe_define_function(args, kwargs)\n\u001b[0;32m   <a href='file:///c%3A/Users/hayte/Anaconda3/envs/ml/lib/site-packages/tensorflow/python/eager/function.py?line=2828'>2829</a>\u001b[0m \u001b[39mreturn\u001b[39;00m graph_function\u001b[39m.\u001b[39m_filtered_call(args, kwargs)\n",
      "File \u001b[1;32m~\\Anaconda3\\envs\\ml\\lib\\site-packages\\tensorflow\\python\\eager\\function.py:3213\u001b[0m, in \u001b[0;36mFunction._maybe_define_function\u001b[1;34m(self, args, kwargs)\u001b[0m\n\u001b[0;32m   <a href='file:///c%3A/Users/hayte/Anaconda3/envs/ml/lib/site-packages/tensorflow/python/eager/function.py?line=3209'>3210</a>\u001b[0m   \u001b[39mreturn\u001b[39;00m \u001b[39mself\u001b[39m\u001b[39m.\u001b[39m_define_function_with_shape_relaxation(args, kwargs)\n\u001b[0;32m   <a href='file:///c%3A/Users/hayte/Anaconda3/envs/ml/lib/site-packages/tensorflow/python/eager/function.py?line=3211'>3212</a>\u001b[0m \u001b[39mself\u001b[39m\u001b[39m.\u001b[39m_function_cache\u001b[39m.\u001b[39mmissed\u001b[39m.\u001b[39madd(call_context_key)\n\u001b[1;32m-> <a href='file:///c%3A/Users/hayte/Anaconda3/envs/ml/lib/site-packages/tensorflow/python/eager/function.py?line=3212'>3213</a>\u001b[0m graph_function \u001b[39m=\u001b[39m \u001b[39mself\u001b[39;49m\u001b[39m.\u001b[39;49m_create_graph_function(args, kwargs)\n\u001b[0;32m   <a href='file:///c%3A/Users/hayte/Anaconda3/envs/ml/lib/site-packages/tensorflow/python/eager/function.py?line=3213'>3214</a>\u001b[0m \u001b[39mself\u001b[39m\u001b[39m.\u001b[39m_function_cache\u001b[39m.\u001b[39mprimary[cache_key] \u001b[39m=\u001b[39m graph_function\n\u001b[0;32m   <a href='file:///c%3A/Users/hayte/Anaconda3/envs/ml/lib/site-packages/tensorflow/python/eager/function.py?line=3214'>3215</a>\u001b[0m \u001b[39mreturn\u001b[39;00m graph_function, args, kwargs\n",
      "File \u001b[1;32m~\\Anaconda3\\envs\\ml\\lib\\site-packages\\tensorflow\\python\\eager\\function.py:3065\u001b[0m, in \u001b[0;36mFunction._create_graph_function\u001b[1;34m(self, args, kwargs, override_flat_arg_shapes)\u001b[0m\n\u001b[0;32m   <a href='file:///c%3A/Users/hayte/Anaconda3/envs/ml/lib/site-packages/tensorflow/python/eager/function.py?line=3059'>3060</a>\u001b[0m missing_arg_names \u001b[39m=\u001b[39m [\n\u001b[0;32m   <a href='file:///c%3A/Users/hayte/Anaconda3/envs/ml/lib/site-packages/tensorflow/python/eager/function.py?line=3060'>3061</a>\u001b[0m     \u001b[39m\"\u001b[39m\u001b[39m%s\u001b[39;00m\u001b[39m_\u001b[39m\u001b[39m%d\u001b[39;00m\u001b[39m\"\u001b[39m \u001b[39m%\u001b[39m (arg, i) \u001b[39mfor\u001b[39;00m i, arg \u001b[39min\u001b[39;00m \u001b[39menumerate\u001b[39m(missing_arg_names)\n\u001b[0;32m   <a href='file:///c%3A/Users/hayte/Anaconda3/envs/ml/lib/site-packages/tensorflow/python/eager/function.py?line=3061'>3062</a>\u001b[0m ]\n\u001b[0;32m   <a href='file:///c%3A/Users/hayte/Anaconda3/envs/ml/lib/site-packages/tensorflow/python/eager/function.py?line=3062'>3063</a>\u001b[0m arg_names \u001b[39m=\u001b[39m base_arg_names \u001b[39m+\u001b[39m missing_arg_names\n\u001b[0;32m   <a href='file:///c%3A/Users/hayte/Anaconda3/envs/ml/lib/site-packages/tensorflow/python/eager/function.py?line=3063'>3064</a>\u001b[0m graph_function \u001b[39m=\u001b[39m ConcreteFunction(\n\u001b[1;32m-> <a href='file:///c%3A/Users/hayte/Anaconda3/envs/ml/lib/site-packages/tensorflow/python/eager/function.py?line=3064'>3065</a>\u001b[0m     func_graph_module\u001b[39m.\u001b[39;49mfunc_graph_from_py_func(\n\u001b[0;32m   <a href='file:///c%3A/Users/hayte/Anaconda3/envs/ml/lib/site-packages/tensorflow/python/eager/function.py?line=3065'>3066</a>\u001b[0m         \u001b[39mself\u001b[39;49m\u001b[39m.\u001b[39;49m_name,\n\u001b[0;32m   <a href='file:///c%3A/Users/hayte/Anaconda3/envs/ml/lib/site-packages/tensorflow/python/eager/function.py?line=3066'>3067</a>\u001b[0m         \u001b[39mself\u001b[39;49m\u001b[39m.\u001b[39;49m_python_function,\n\u001b[0;32m   <a href='file:///c%3A/Users/hayte/Anaconda3/envs/ml/lib/site-packages/tensorflow/python/eager/function.py?line=3067'>3068</a>\u001b[0m         args,\n\u001b[0;32m   <a href='file:///c%3A/Users/hayte/Anaconda3/envs/ml/lib/site-packages/tensorflow/python/eager/function.py?line=3068'>3069</a>\u001b[0m         kwargs,\n\u001b[0;32m   <a href='file:///c%3A/Users/hayte/Anaconda3/envs/ml/lib/site-packages/tensorflow/python/eager/function.py?line=3069'>3070</a>\u001b[0m         \u001b[39mself\u001b[39;49m\u001b[39m.\u001b[39;49minput_signature,\n\u001b[0;32m   <a href='file:///c%3A/Users/hayte/Anaconda3/envs/ml/lib/site-packages/tensorflow/python/eager/function.py?line=3070'>3071</a>\u001b[0m         autograph\u001b[39m=\u001b[39;49m\u001b[39mself\u001b[39;49m\u001b[39m.\u001b[39;49m_autograph,\n\u001b[0;32m   <a href='file:///c%3A/Users/hayte/Anaconda3/envs/ml/lib/site-packages/tensorflow/python/eager/function.py?line=3071'>3072</a>\u001b[0m         autograph_options\u001b[39m=\u001b[39;49m\u001b[39mself\u001b[39;49m\u001b[39m.\u001b[39;49m_autograph_options,\n\u001b[0;32m   <a href='file:///c%3A/Users/hayte/Anaconda3/envs/ml/lib/site-packages/tensorflow/python/eager/function.py?line=3072'>3073</a>\u001b[0m         arg_names\u001b[39m=\u001b[39;49marg_names,\n\u001b[0;32m   <a href='file:///c%3A/Users/hayte/Anaconda3/envs/ml/lib/site-packages/tensorflow/python/eager/function.py?line=3073'>3074</a>\u001b[0m         override_flat_arg_shapes\u001b[39m=\u001b[39;49moverride_flat_arg_shapes,\n\u001b[0;32m   <a href='file:///c%3A/Users/hayte/Anaconda3/envs/ml/lib/site-packages/tensorflow/python/eager/function.py?line=3074'>3075</a>\u001b[0m         capture_by_value\u001b[39m=\u001b[39;49m\u001b[39mself\u001b[39;49m\u001b[39m.\u001b[39;49m_capture_by_value),\n\u001b[0;32m   <a href='file:///c%3A/Users/hayte/Anaconda3/envs/ml/lib/site-packages/tensorflow/python/eager/function.py?line=3075'>3076</a>\u001b[0m     \u001b[39mself\u001b[39m\u001b[39m.\u001b[39m_function_attributes,\n\u001b[0;32m   <a href='file:///c%3A/Users/hayte/Anaconda3/envs/ml/lib/site-packages/tensorflow/python/eager/function.py?line=3076'>3077</a>\u001b[0m     function_spec\u001b[39m=\u001b[39m\u001b[39mself\u001b[39m\u001b[39m.\u001b[39mfunction_spec,\n\u001b[0;32m   <a href='file:///c%3A/Users/hayte/Anaconda3/envs/ml/lib/site-packages/tensorflow/python/eager/function.py?line=3077'>3078</a>\u001b[0m     \u001b[39m# Tell the ConcreteFunction to clean up its graph once it goes out of\u001b[39;00m\n\u001b[0;32m   <a href='file:///c%3A/Users/hayte/Anaconda3/envs/ml/lib/site-packages/tensorflow/python/eager/function.py?line=3078'>3079</a>\u001b[0m     \u001b[39m# scope. This is not the default behavior since it gets used in some\u001b[39;00m\n\u001b[0;32m   <a href='file:///c%3A/Users/hayte/Anaconda3/envs/ml/lib/site-packages/tensorflow/python/eager/function.py?line=3079'>3080</a>\u001b[0m     \u001b[39m# places (like Keras) where the FuncGraph lives longer than the\u001b[39;00m\n\u001b[0;32m   <a href='file:///c%3A/Users/hayte/Anaconda3/envs/ml/lib/site-packages/tensorflow/python/eager/function.py?line=3080'>3081</a>\u001b[0m     \u001b[39m# ConcreteFunction.\u001b[39;00m\n\u001b[0;32m   <a href='file:///c%3A/Users/hayte/Anaconda3/envs/ml/lib/site-packages/tensorflow/python/eager/function.py?line=3081'>3082</a>\u001b[0m     shared_func_graph\u001b[39m=\u001b[39m\u001b[39mFalse\u001b[39;00m)\n\u001b[0;32m   <a href='file:///c%3A/Users/hayte/Anaconda3/envs/ml/lib/site-packages/tensorflow/python/eager/function.py?line=3082'>3083</a>\u001b[0m \u001b[39mreturn\u001b[39;00m graph_function\n",
      "File \u001b[1;32m~\\Anaconda3\\envs\\ml\\lib\\site-packages\\tensorflow\\python\\framework\\func_graph.py:986\u001b[0m, in \u001b[0;36mfunc_graph_from_py_func\u001b[1;34m(name, python_func, args, kwargs, signature, func_graph, autograph, autograph_options, add_control_dependencies, arg_names, op_return_value, collections, capture_by_value, override_flat_arg_shapes)\u001b[0m\n\u001b[0;32m    <a href='file:///c%3A/Users/hayte/Anaconda3/envs/ml/lib/site-packages/tensorflow/python/framework/func_graph.py?line=982'>983</a>\u001b[0m \u001b[39melse\u001b[39;00m:\n\u001b[0;32m    <a href='file:///c%3A/Users/hayte/Anaconda3/envs/ml/lib/site-packages/tensorflow/python/framework/func_graph.py?line=983'>984</a>\u001b[0m   _, original_func \u001b[39m=\u001b[39m tf_decorator\u001b[39m.\u001b[39munwrap(python_func)\n\u001b[1;32m--> <a href='file:///c%3A/Users/hayte/Anaconda3/envs/ml/lib/site-packages/tensorflow/python/framework/func_graph.py?line=985'>986</a>\u001b[0m func_outputs \u001b[39m=\u001b[39m python_func(\u001b[39m*\u001b[39;49mfunc_args, \u001b[39m*\u001b[39;49m\u001b[39m*\u001b[39;49mfunc_kwargs)\n\u001b[0;32m    <a href='file:///c%3A/Users/hayte/Anaconda3/envs/ml/lib/site-packages/tensorflow/python/framework/func_graph.py?line=987'>988</a>\u001b[0m \u001b[39m# invariant: `func_outputs` contains only Tensors, CompositeTensors,\u001b[39;00m\n\u001b[0;32m    <a href='file:///c%3A/Users/hayte/Anaconda3/envs/ml/lib/site-packages/tensorflow/python/framework/func_graph.py?line=988'>989</a>\u001b[0m \u001b[39m# TensorArrays and `None`s.\u001b[39;00m\n\u001b[0;32m    <a href='file:///c%3A/Users/hayte/Anaconda3/envs/ml/lib/site-packages/tensorflow/python/framework/func_graph.py?line=989'>990</a>\u001b[0m func_outputs \u001b[39m=\u001b[39m nest\u001b[39m.\u001b[39mmap_structure(convert, func_outputs,\n\u001b[0;32m    <a href='file:///c%3A/Users/hayte/Anaconda3/envs/ml/lib/site-packages/tensorflow/python/framework/func_graph.py?line=990'>991</a>\u001b[0m                                   expand_composites\u001b[39m=\u001b[39m\u001b[39mTrue\u001b[39;00m)\n",
      "File \u001b[1;32m~\\Anaconda3\\envs\\ml\\lib\\site-packages\\tensorflow\\python\\eager\\def_function.py:600\u001b[0m, in \u001b[0;36mFunction._defun_with_scope.<locals>.wrapped_fn\u001b[1;34m(*args, **kwds)\u001b[0m\n\u001b[0;32m    <a href='file:///c%3A/Users/hayte/Anaconda3/envs/ml/lib/site-packages/tensorflow/python/eager/def_function.py?line=584'>585</a>\u001b[0m \u001b[39m# We register a variable creator with reduced priority. If an outer\u001b[39;00m\n\u001b[0;32m    <a href='file:///c%3A/Users/hayte/Anaconda3/envs/ml/lib/site-packages/tensorflow/python/eager/def_function.py?line=585'>586</a>\u001b[0m \u001b[39m# variable creator is just modifying keyword arguments to the variable\u001b[39;00m\n\u001b[0;32m    <a href='file:///c%3A/Users/hayte/Anaconda3/envs/ml/lib/site-packages/tensorflow/python/eager/def_function.py?line=586'>587</a>\u001b[0m \u001b[39m# constructor, this will work harmoniously. Since the `scope` registered\u001b[39;00m\n\u001b[1;32m   (...)\u001b[0m\n\u001b[0;32m    <a href='file:///c%3A/Users/hayte/Anaconda3/envs/ml/lib/site-packages/tensorflow/python/eager/def_function.py?line=594'>595</a>\u001b[0m \u001b[39m# better than the alternative, tracing the initialization graph but giving\u001b[39;00m\n\u001b[0;32m    <a href='file:///c%3A/Users/hayte/Anaconda3/envs/ml/lib/site-packages/tensorflow/python/eager/def_function.py?line=595'>596</a>\u001b[0m \u001b[39m# the user a variable type they didn't want.\u001b[39;00m\n\u001b[0;32m    <a href='file:///c%3A/Users/hayte/Anaconda3/envs/ml/lib/site-packages/tensorflow/python/eager/def_function.py?line=596'>597</a>\u001b[0m \u001b[39mwith\u001b[39;00m ops\u001b[39m.\u001b[39mget_default_graph()\u001b[39m.\u001b[39m_variable_creator_scope(scope, priority\u001b[39m=\u001b[39m\u001b[39m50\u001b[39m):  \u001b[39m# pylint: disable=protected-access\u001b[39;00m\n\u001b[0;32m    <a href='file:///c%3A/Users/hayte/Anaconda3/envs/ml/lib/site-packages/tensorflow/python/eager/def_function.py?line=597'>598</a>\u001b[0m   \u001b[39m# __wrapped__ allows AutoGraph to swap in a converted function. We give\u001b[39;00m\n\u001b[0;32m    <a href='file:///c%3A/Users/hayte/Anaconda3/envs/ml/lib/site-packages/tensorflow/python/eager/def_function.py?line=598'>599</a>\u001b[0m   \u001b[39m# the function a weak reference to itself to avoid a reference cycle.\u001b[39;00m\n\u001b[1;32m--> <a href='file:///c%3A/Users/hayte/Anaconda3/envs/ml/lib/site-packages/tensorflow/python/eager/def_function.py?line=599'>600</a>\u001b[0m   \u001b[39mreturn\u001b[39;00m weak_wrapped_fn()\u001b[39m.\u001b[39;49m__wrapped__(\u001b[39m*\u001b[39;49margs, \u001b[39m*\u001b[39;49m\u001b[39m*\u001b[39;49mkwds)\n",
      "File \u001b[1;32m~\\Anaconda3\\envs\\ml\\lib\\site-packages\\tensorflow\\python\\saved_model\\function_deserialization.py:251\u001b[0m, in \u001b[0;36mrecreate_function.<locals>.restored_function_body\u001b[1;34m(*args, **kwargs)\u001b[0m\n\u001b[0;32m    <a href='file:///c%3A/Users/hayte/Anaconda3/envs/ml/lib/site-packages/tensorflow/python/saved_model/function_deserialization.py?line=246'>247</a>\u001b[0m   positional, keyword \u001b[39m=\u001b[39m concrete_function\u001b[39m.\u001b[39mstructured_input_signature\n\u001b[0;32m    <a href='file:///c%3A/Users/hayte/Anaconda3/envs/ml/lib/site-packages/tensorflow/python/saved_model/function_deserialization.py?line=247'>248</a>\u001b[0m   signature_descriptions\u001b[39m.\u001b[39mappend(\n\u001b[0;32m    <a href='file:///c%3A/Users/hayte/Anaconda3/envs/ml/lib/site-packages/tensorflow/python/saved_model/function_deserialization.py?line=248'>249</a>\u001b[0m       \u001b[39m\"\u001b[39m\u001b[39mOption \u001b[39m\u001b[39m{}\u001b[39;00m\u001b[39m:\u001b[39m\u001b[39m\\n\u001b[39;00m\u001b[39m  \u001b[39m\u001b[39m{}\u001b[39;00m\u001b[39m\\n\u001b[39;00m\u001b[39m  Keyword arguments: \u001b[39m\u001b[39m{}\u001b[39;00m\u001b[39m\"\u001b[39m\n\u001b[0;32m    <a href='file:///c%3A/Users/hayte/Anaconda3/envs/ml/lib/site-packages/tensorflow/python/saved_model/function_deserialization.py?line=249'>250</a>\u001b[0m       \u001b[39m.\u001b[39mformat(index \u001b[39m+\u001b[39m \u001b[39m1\u001b[39m, _pretty_format_positional(positional), keyword))\n\u001b[1;32m--> <a href='file:///c%3A/Users/hayte/Anaconda3/envs/ml/lib/site-packages/tensorflow/python/saved_model/function_deserialization.py?line=250'>251</a>\u001b[0m \u001b[39mraise\u001b[39;00m \u001b[39mValueError\u001b[39;00m(\n\u001b[0;32m    <a href='file:///c%3A/Users/hayte/Anaconda3/envs/ml/lib/site-packages/tensorflow/python/saved_model/function_deserialization.py?line=251'>252</a>\u001b[0m     \u001b[39m\"\u001b[39m\u001b[39mCould not find matching function to call loaded from the SavedModel. \u001b[39m\u001b[39m\"\u001b[39m\n\u001b[0;32m    <a href='file:///c%3A/Users/hayte/Anaconda3/envs/ml/lib/site-packages/tensorflow/python/saved_model/function_deserialization.py?line=252'>253</a>\u001b[0m     \u001b[39m\"\u001b[39m\u001b[39mGot:\u001b[39m\u001b[39m\\n\u001b[39;00m\u001b[39m  \u001b[39m\u001b[39m{}\u001b[39;00m\u001b[39m\\n\u001b[39;00m\u001b[39m  Keyword arguments: \u001b[39m\u001b[39m{}\u001b[39;00m\u001b[39m\\n\u001b[39;00m\u001b[39m\\n\u001b[39;00m\u001b[39mExpected \u001b[39m\u001b[39m\"\u001b[39m\n\u001b[0;32m    <a href='file:///c%3A/Users/hayte/Anaconda3/envs/ml/lib/site-packages/tensorflow/python/saved_model/function_deserialization.py?line=253'>254</a>\u001b[0m     \u001b[39m\"\u001b[39m\u001b[39mthese arguments to match one of the following \u001b[39m\u001b[39m{}\u001b[39;00m\u001b[39m option(s):\u001b[39m\u001b[39m\\n\u001b[39;00m\u001b[39m\\n\u001b[39;00m\u001b[39m{}\u001b[39;00m\u001b[39m\"\u001b[39m\n\u001b[0;32m    <a href='file:///c%3A/Users/hayte/Anaconda3/envs/ml/lib/site-packages/tensorflow/python/saved_model/function_deserialization.py?line=254'>255</a>\u001b[0m     \u001b[39m.\u001b[39mformat(_pretty_format_positional(args), kwargs,\n\u001b[0;32m    <a href='file:///c%3A/Users/hayte/Anaconda3/envs/ml/lib/site-packages/tensorflow/python/saved_model/function_deserialization.py?line=255'>256</a>\u001b[0m             \u001b[39mlen\u001b[39m(saved_function\u001b[39m.\u001b[39mconcrete_functions),\n\u001b[0;32m    <a href='file:///c%3A/Users/hayte/Anaconda3/envs/ml/lib/site-packages/tensorflow/python/saved_model/function_deserialization.py?line=256'>257</a>\u001b[0m             \u001b[39m\"\u001b[39m\u001b[39m\\n\u001b[39;00m\u001b[39m\\n\u001b[39;00m\u001b[39m\"\u001b[39m\u001b[39m.\u001b[39mjoin(signature_descriptions)))\n",
      "\u001b[1;31mValueError\u001b[0m: Could not find matching function to call loaded from the SavedModel. Got:\n  Positional arguments (1 total):\n    * 2\n  Keyword arguments: {}\n\nExpected these arguments to match one of the following 1 option(s):\n\nOption 1:\n  Positional arguments (1 total):\n    * VariableSpec(shape=(3,), dtype=tf.int32, name='x')\n  Keyword arguments: {}"
     ]
    }
   ],
   "source": [
    "mod.multiply(tf.Variable([1,2,3]))\n",
    "reloaded.multiply(2)"
   ]
  }
 ],
 "metadata": {
  "interpreter": {
   "hash": "05ddc6ec5474a1f626a2be7b32cdbbeeb8d0940e4dc5109586420296a02a5144"
  },
  "kernelspec": {
   "display_name": "Python 3.8.12 ('ml')",
   "language": "python",
   "name": "python3"
  },
  "language_info": {
   "codemirror_mode": {
    "name": "ipython",
    "version": 3
   },
   "file_extension": ".py",
   "mimetype": "text/x-python",
   "name": "python",
   "nbconvert_exporter": "python",
   "pygments_lexer": "ipython3",
   "version": "3.8.12"
  },
  "orig_nbformat": 4
 },
 "nbformat": 4,
 "nbformat_minor": 2
}
