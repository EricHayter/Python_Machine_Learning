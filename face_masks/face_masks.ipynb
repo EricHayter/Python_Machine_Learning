{
 "cells": [
  {
   "cell_type": "code",
   "execution_count": 41,
   "metadata": {},
   "outputs": [
    {
     "name": "stdout",
     "output_type": "stream",
     "text": [
      "Setup complete\n"
     ]
    }
   ],
   "source": [
    "import tensorflow as tf\n",
    "import numpy as np\n",
    "import os\n",
    "import pandas as pd\n",
    "import keras\n",
    "from PIL import Image\n",
    "\n",
    "print(\"Setup complete\")"
   ]
  },
  {
   "cell_type": "code",
   "execution_count": 42,
   "metadata": {},
   "outputs": [],
   "source": [
    "fully_covered = os.listdir(\"data/fully_covered/\")\n",
    "not_covered = os.listdir(\"data/not_covered/\")\n",
    "not_face = os.listdir(\"data/not_face/\")\n",
    "partially_covered = os.listdir(\"data/partially_covered/\")\n"
   ]
  },
  {
   "cell_type": "code",
   "execution_count": 43,
   "metadata": {},
   "outputs": [],
   "source": [
    "img_w,img_h = 64, 64\n",
    "\n",
    "LABELS = [\"Fully Covered\", \"Not Covered\", \"Not a Face\", \"Partially Covered\"]\n",
    "\n",
    "X = []\n",
    "y = []"
   ]
  },
  {
   "cell_type": "code",
   "execution_count": 44,
   "metadata": {},
   "outputs": [],
   "source": [
    "for i in fully_covered:\n",
    "    try:            \n",
    "        img = Image.open(\"data/fully_covered/\" + i).convert('RGB') # getting each image an converting to RGB\n",
    "        img.resize((img_w, img_h)) # scaling the size down\n",
    "        X.append(np.asarray(img)) # adding the array value of each image to our data set\n",
    "        y.append(0) # adding the label\n",
    "    except:\n",
    "        pass\n",
    "\n"
   ]
  },
  {
   "cell_type": "code",
   "execution_count": 45,
   "metadata": {},
   "outputs": [],
   "source": [
    "for i in not_covered:\n",
    "    try:\n",
    "        img = Image.open(\"data/not_covered/\" + i ).convert('RGB')\n",
    "        img.resize((img_w,img_h))\n",
    "        X.append(np.asarray(img))\n",
    "        y.append(1)\n",
    "    except:\n",
    "        pass"
   ]
  },
  {
   "cell_type": "code",
   "execution_count": 46,
   "metadata": {},
   "outputs": [],
   "source": [
    "for i in not_face:\n",
    "    try:\n",
    "        img = Image.open(\"data/not_face/\" + i).convert('RGB')\n",
    "        img.resize((img_w,img_h))\n",
    "        X.append(np.asarray(img))\n",
    "        y.append(2)\n",
    "    except:\n",
    "        pass"
   ]
  },
  {
   "cell_type": "code",
   "execution_count": 47,
   "metadata": {},
   "outputs": [],
   "source": [
    "for i in partially_covered:\n",
    "    try:\n",
    "        img = Image.open(\"data/partially_covered/\" + i).convert('RGB')\n",
    "        img.resize((img_w,img_h))\n",
    "        X.append(np.asarray(img))\n",
    "        y.append(3)\n",
    "    except:\n",
    "        pass"
   ]
  },
  {
   "cell_type": "code",
   "execution_count": 50,
   "metadata": {},
   "outputs": [],
   "source": [
    "X = np.asarray(X)\n",
    "y = np.asarray(y)\n",
    "\n",
    "X = X.astype('float32')\n",
    "X /= 255 # convert this to a number between 0-1"
   ]
  },
  {
   "cell_type": "code",
   "execution_count": 57,
   "metadata": {},
   "outputs": [],
   "source": [
    "num_classes = 4\n",
    "labels = keras.utils.to_categorical(y=y, num_classes=num_classes)"
   ]
  },
  {
   "cell_type": "code",
   "execution_count": null,
   "metadata": {},
   "outputs": [],
   "source": [
    "keras."
   ]
  }
 ],
 "metadata": {
  "interpreter": {
   "hash": "05ddc6ec5474a1f626a2be7b32cdbbeeb8d0940e4dc5109586420296a02a5144"
  },
  "kernelspec": {
   "display_name": "Python 3.8.12 ('ml')",
   "language": "python",
   "name": "python3"
  },
  "language_info": {
   "codemirror_mode": {
    "name": "ipython",
    "version": 3
   },
   "file_extension": ".py",
   "mimetype": "text/x-python",
   "name": "python",
   "nbconvert_exporter": "python",
   "pygments_lexer": "ipython3",
   "version": "3.8.12"
  },
  "orig_nbformat": 4
 },
 "nbformat": 4,
 "nbformat_minor": 2
}
