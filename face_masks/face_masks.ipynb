{
 "cells": [
  {
   "cell_type": "code",
   "execution_count": 1,
   "metadata": {},
   "outputs": [
    {
     "name": "stdout",
     "output_type": "stream",
     "text": [
      "Setup complete\n"
     ]
    }
   ],
   "source": [
    "import tensorflow as tf\n",
    "import numpy as np\n",
    "import os\n",
    "import pandas as pd\n",
    "import keras\n",
    "from PIL import Image\n",
    "\n",
    "print(\"Setup complete\")"
   ]
  },
  {
   "cell_type": "code",
   "execution_count": 2,
   "metadata": {},
   "outputs": [],
   "source": [
    "img_w,img_h = 64, 64\n",
    "IMG_DIM = (img_w,img_h)\n",
    "BATCH_SIZE = 32\n",
    "\n",
    "PATH = \"data/\"\n",
    "LABELS = [\"Fully Covered\", \"Not Covered\", \"Not a Face\", \"Partially Covered\"]\n",
    "\n",
    "X = []\n",
    "y = []"
   ]
  },
  {
   "cell_type": "code",
   "execution_count": 22,
   "metadata": {},
   "outputs": [
    {
     "name": "stdout",
     "output_type": "stream",
     "text": [
      "Found 6621 files belonging to 4 classes.\n",
      "Using 5297 files for training.\n"
     ]
    }
   ],
   "source": [
    "# creating our training dataset\n",
    "train_ds = keras.preprocessing.image_dataset_from_directory(\n",
    "    directory=PATH,\n",
    "    image_size=IMG_DIM,\n",
    "    subset=\"training\",\n",
    "    seed=123,\n",
    "    validation_split=0.2)\n"
   ]
  },
  {
   "cell_type": "code",
   "execution_count": 23,
   "metadata": {},
   "outputs": [
    {
     "name": "stdout",
     "output_type": "stream",
     "text": [
      "Found 6621 files belonging to 4 classes.\n",
      "Using 1324 files for validation.\n"
     ]
    }
   ],
   "source": [
    "# creating our validation training set\n",
    "val_ds = keras.preprocessing.image_dataset_from_directory(\n",
    "    directory=PATH,\n",
    "    image_size=IMG_DIM,\n",
    "    subset=\"validation\",\n",
    "    seed=234,\n",
    "    validation_split=0.2)\n"
   ]
  },
  {
   "cell_type": "code",
   "execution_count": 5,
   "metadata": {},
   "outputs": [
    {
     "name": "stdout",
     "output_type": "stream",
     "text": [
      "['fully_covered', 'not_covered', 'not_face', 'partially_covered']\n"
     ]
    }
   ],
   "source": [
    "class_names = train_ds.class_names\n",
    "print(class_names)"
   ]
  },
  {
   "cell_type": "code",
   "execution_count": 33,
   "metadata": {},
   "outputs": [],
   "source": [
    "num_classes = len(class_names)\n",
    "\n",
    "\n",
    "class Model(keras.Model):\n",
    "    def __init__(self):\n",
    "        super().__init__()\n",
    "        self.model = keras.models.Sequential([\n",
    "            keras.layers.Flatten(),\n",
    "            keras.layers.experimental.preprocessing.Rescaling(1./255),\n",
    "            keras.layers.Dense(128, activation='relu'),\n",
    "            keras.layers.Dense(64, activation='relu'),\n",
    "            keras.layers.Dense(32, activation='relu'),\n",
    "            keras.layers.Dense(num_classes, activation='relu'),\n",
    "        ])\n",
    "\n",
    "    def call(self, ds):\n",
    "        return self.model(ds)"
   ]
  },
  {
   "cell_type": "code",
   "execution_count": 36,
   "metadata": {},
   "outputs": [],
   "source": [
    "model = Model()\n",
    "model.compile(optimizer='adam',\n",
    "              loss=tf.keras.losses.SparseCategoricalCrossentropy(from_logits=True),\n",
    "              metrics=['accuracy'])\n",
    "\n",
    "\n",
    "history = model.fit(train_ds,\n",
    "                        epochs=1,\n",
    "                        batch_size=32,\n",
    "                        verbose=0)\n"
   ]
  },
  {
   "cell_type": "code",
   "execution_count": 38,
   "metadata": {},
   "outputs": [
    {
     "name": "stdout",
     "output_type": "stream",
     "text": [
      "WARNING:tensorflow:Layers in a Sequential model should only have a single input tensor, but we receive a <class 'tensorflow.python.data.ops.dataset_ops.BatchDataset'> input: <BatchDataset shapes: ((None, 64, 64, 3), (None,)), types: (tf.float32, tf.int32)>\n",
      "Consider rewriting this model with the Functional API.\n"
     ]
    },
    {
     "ename": "ValueError",
     "evalue": "Attempt to convert a value (<BatchDataset shapes: ((None, 64, 64, 3), (None,)), types: (tf.float32, tf.int32)>) with an unsupported type (<class 'tensorflow.python.data.ops.dataset_ops.BatchDataset'>) to a Tensor.",
     "output_type": "error",
     "traceback": [
      "\u001b[1;31m---------------------------------------------------------------------------\u001b[0m",
      "\u001b[1;31mValueError\u001b[0m                                Traceback (most recent call last)",
      "\u001b[1;32mc:\\Users\\hayte\\Desktop\\Python_Machine_Learning\\face_masks\\face_masks.ipynb Cell 8'\u001b[0m in \u001b[0;36m<cell line: 1>\u001b[1;34m()\u001b[0m\n\u001b[1;32m----> <a href='vscode-notebook-cell:/c%3A/Users/hayte/Desktop/Python_Machine_Learning/face_masks/face_masks.ipynb#ch0000007?line=0'>1</a>\u001b[0m model(val_ds)\n",
      "File \u001b[1;32m~\\Anaconda3\\envs\\ml\\lib\\site-packages\\tensorflow\\python\\keras\\engine\\base_layer.py:985\u001b[0m, in \u001b[0;36mLayer.__call__\u001b[1;34m(self, *args, **kwargs)\u001b[0m\n\u001b[0;32m    <a href='file:///c%3A/Users/hayte/Anaconda3/envs/ml/lib/site-packages/tensorflow/python/keras/engine/base_layer.py?line=981'>982</a>\u001b[0m   \u001b[39mself\u001b[39m\u001b[39m.\u001b[39m_maybe_build(inputs)\n\u001b[0;32m    <a href='file:///c%3A/Users/hayte/Anaconda3/envs/ml/lib/site-packages/tensorflow/python/keras/engine/base_layer.py?line=983'>984</a>\u001b[0m \u001b[39mwith\u001b[39;00m ops\u001b[39m.\u001b[39menable_auto_cast_variables(\u001b[39mself\u001b[39m\u001b[39m.\u001b[39m_compute_dtype_object):\n\u001b[1;32m--> <a href='file:///c%3A/Users/hayte/Anaconda3/envs/ml/lib/site-packages/tensorflow/python/keras/engine/base_layer.py?line=984'>985</a>\u001b[0m   outputs \u001b[39m=\u001b[39m call_fn(inputs, \u001b[39m*\u001b[39;49margs, \u001b[39m*\u001b[39;49m\u001b[39m*\u001b[39;49mkwargs)\n\u001b[0;32m    <a href='file:///c%3A/Users/hayte/Anaconda3/envs/ml/lib/site-packages/tensorflow/python/keras/engine/base_layer.py?line=986'>987</a>\u001b[0m \u001b[39mif\u001b[39;00m \u001b[39mself\u001b[39m\u001b[39m.\u001b[39m_activity_regularizer:\n\u001b[0;32m    <a href='file:///c%3A/Users/hayte/Anaconda3/envs/ml/lib/site-packages/tensorflow/python/keras/engine/base_layer.py?line=987'>988</a>\u001b[0m   \u001b[39mself\u001b[39m\u001b[39m.\u001b[39m_handle_activity_regularization(inputs, outputs)\n",
      "\u001b[1;32mc:\\Users\\hayte\\Desktop\\Python_Machine_Learning\\face_masks\\face_masks.ipynb Cell 6'\u001b[0m in \u001b[0;36mModel.call\u001b[1;34m(self, ds)\u001b[0m\n\u001b[0;32m     <a href='vscode-notebook-cell:/c%3A/Users/hayte/Desktop/Python_Machine_Learning/face_masks/face_masks.ipynb#ch0000005?line=15'>16</a>\u001b[0m \u001b[39mdef\u001b[39;00m \u001b[39mcall\u001b[39m(\u001b[39mself\u001b[39m, ds):\n\u001b[1;32m---> <a href='vscode-notebook-cell:/c%3A/Users/hayte/Desktop/Python_Machine_Learning/face_masks/face_masks.ipynb#ch0000005?line=16'>17</a>\u001b[0m     \u001b[39mreturn\u001b[39;00m \u001b[39mself\u001b[39;49m\u001b[39m.\u001b[39;49mmodel(ds)\n",
      "File \u001b[1;32m~\\Anaconda3\\envs\\ml\\lib\\site-packages\\tensorflow\\python\\keras\\engine\\base_layer.py:985\u001b[0m, in \u001b[0;36mLayer.__call__\u001b[1;34m(self, *args, **kwargs)\u001b[0m\n\u001b[0;32m    <a href='file:///c%3A/Users/hayte/Anaconda3/envs/ml/lib/site-packages/tensorflow/python/keras/engine/base_layer.py?line=981'>982</a>\u001b[0m   \u001b[39mself\u001b[39m\u001b[39m.\u001b[39m_maybe_build(inputs)\n\u001b[0;32m    <a href='file:///c%3A/Users/hayte/Anaconda3/envs/ml/lib/site-packages/tensorflow/python/keras/engine/base_layer.py?line=983'>984</a>\u001b[0m \u001b[39mwith\u001b[39;00m ops\u001b[39m.\u001b[39menable_auto_cast_variables(\u001b[39mself\u001b[39m\u001b[39m.\u001b[39m_compute_dtype_object):\n\u001b[1;32m--> <a href='file:///c%3A/Users/hayte/Anaconda3/envs/ml/lib/site-packages/tensorflow/python/keras/engine/base_layer.py?line=984'>985</a>\u001b[0m   outputs \u001b[39m=\u001b[39m call_fn(inputs, \u001b[39m*\u001b[39;49margs, \u001b[39m*\u001b[39;49m\u001b[39m*\u001b[39;49mkwargs)\n\u001b[0;32m    <a href='file:///c%3A/Users/hayte/Anaconda3/envs/ml/lib/site-packages/tensorflow/python/keras/engine/base_layer.py?line=986'>987</a>\u001b[0m \u001b[39mif\u001b[39;00m \u001b[39mself\u001b[39m\u001b[39m.\u001b[39m_activity_regularizer:\n\u001b[0;32m    <a href='file:///c%3A/Users/hayte/Anaconda3/envs/ml/lib/site-packages/tensorflow/python/keras/engine/base_layer.py?line=987'>988</a>\u001b[0m   \u001b[39mself\u001b[39m\u001b[39m.\u001b[39m_handle_activity_regularization(inputs, outputs)\n",
      "File \u001b[1;32m~\\Anaconda3\\envs\\ml\\lib\\site-packages\\tensorflow\\python\\keras\\engine\\sequential.py:372\u001b[0m, in \u001b[0;36mSequential.call\u001b[1;34m(self, inputs, training, mask)\u001b[0m\n\u001b[0;32m    <a href='file:///c%3A/Users/hayte/Anaconda3/envs/ml/lib/site-packages/tensorflow/python/keras/engine/sequential.py?line=369'>370</a>\u001b[0m   \u001b[39mif\u001b[39;00m \u001b[39mnot\u001b[39;00m \u001b[39mself\u001b[39m\u001b[39m.\u001b[39mbuilt:\n\u001b[0;32m    <a href='file:///c%3A/Users/hayte/Anaconda3/envs/ml/lib/site-packages/tensorflow/python/keras/engine/sequential.py?line=370'>371</a>\u001b[0m     \u001b[39mself\u001b[39m\u001b[39m.\u001b[39m_init_graph_network(\u001b[39mself\u001b[39m\u001b[39m.\u001b[39minputs, \u001b[39mself\u001b[39m\u001b[39m.\u001b[39moutputs)\n\u001b[1;32m--> <a href='file:///c%3A/Users/hayte/Anaconda3/envs/ml/lib/site-packages/tensorflow/python/keras/engine/sequential.py?line=371'>372</a>\u001b[0m   \u001b[39mreturn\u001b[39;00m \u001b[39msuper\u001b[39;49m(Sequential, \u001b[39mself\u001b[39;49m)\u001b[39m.\u001b[39;49mcall(inputs, training\u001b[39m=\u001b[39;49mtraining, mask\u001b[39m=\u001b[39;49mmask)\n\u001b[0;32m    <a href='file:///c%3A/Users/hayte/Anaconda3/envs/ml/lib/site-packages/tensorflow/python/keras/engine/sequential.py?line=373'>374</a>\u001b[0m outputs \u001b[39m=\u001b[39m inputs  \u001b[39m# handle the corner case where self.layers is empty\u001b[39;00m\n\u001b[0;32m    <a href='file:///c%3A/Users/hayte/Anaconda3/envs/ml/lib/site-packages/tensorflow/python/keras/engine/sequential.py?line=374'>375</a>\u001b[0m \u001b[39mfor\u001b[39;00m layer \u001b[39min\u001b[39;00m \u001b[39mself\u001b[39m\u001b[39m.\u001b[39mlayers:\n\u001b[0;32m    <a href='file:///c%3A/Users/hayte/Anaconda3/envs/ml/lib/site-packages/tensorflow/python/keras/engine/sequential.py?line=375'>376</a>\u001b[0m   \u001b[39m# During each iteration, `inputs` are the inputs to `layer`, and `outputs`\u001b[39;00m\n\u001b[0;32m    <a href='file:///c%3A/Users/hayte/Anaconda3/envs/ml/lib/site-packages/tensorflow/python/keras/engine/sequential.py?line=376'>377</a>\u001b[0m   \u001b[39m# are the outputs of `layer` applied to `inputs`. At the end of each\u001b[39;00m\n\u001b[0;32m    <a href='file:///c%3A/Users/hayte/Anaconda3/envs/ml/lib/site-packages/tensorflow/python/keras/engine/sequential.py?line=377'>378</a>\u001b[0m   \u001b[39m# iteration `inputs` is set to `outputs` to prepare for the next layer.\u001b[39;00m\n",
      "File \u001b[1;32m~\\Anaconda3\\envs\\ml\\lib\\site-packages\\tensorflow\\python\\keras\\engine\\functional.py:385\u001b[0m, in \u001b[0;36mFunctional.call\u001b[1;34m(self, inputs, training, mask)\u001b[0m\n\u001b[0;32m    <a href='file:///c%3A/Users/hayte/Anaconda3/envs/ml/lib/site-packages/tensorflow/python/keras/engine/functional.py?line=366'>367</a>\u001b[0m \u001b[39mdef\u001b[39;00m \u001b[39mcall\u001b[39m(\u001b[39mself\u001b[39m, inputs, training\u001b[39m=\u001b[39m\u001b[39mNone\u001b[39;00m, mask\u001b[39m=\u001b[39m\u001b[39mNone\u001b[39;00m):\n\u001b[0;32m    <a href='file:///c%3A/Users/hayte/Anaconda3/envs/ml/lib/site-packages/tensorflow/python/keras/engine/functional.py?line=367'>368</a>\u001b[0m   \u001b[39m\"\"\"Calls the model on new inputs.\u001b[39;00m\n\u001b[0;32m    <a href='file:///c%3A/Users/hayte/Anaconda3/envs/ml/lib/site-packages/tensorflow/python/keras/engine/functional.py?line=368'>369</a>\u001b[0m \n\u001b[0;32m    <a href='file:///c%3A/Users/hayte/Anaconda3/envs/ml/lib/site-packages/tensorflow/python/keras/engine/functional.py?line=369'>370</a>\u001b[0m \u001b[39m  In this case `call` just reapplies\u001b[39;00m\n\u001b[1;32m   (...)\u001b[0m\n\u001b[0;32m    <a href='file:///c%3A/Users/hayte/Anaconda3/envs/ml/lib/site-packages/tensorflow/python/keras/engine/functional.py?line=382'>383</a>\u001b[0m \u001b[39m      a list of tensors if there are more than one outputs.\u001b[39;00m\n\u001b[0;32m    <a href='file:///c%3A/Users/hayte/Anaconda3/envs/ml/lib/site-packages/tensorflow/python/keras/engine/functional.py?line=383'>384</a>\u001b[0m \u001b[39m  \"\"\"\u001b[39;00m\n\u001b[1;32m--> <a href='file:///c%3A/Users/hayte/Anaconda3/envs/ml/lib/site-packages/tensorflow/python/keras/engine/functional.py?line=384'>385</a>\u001b[0m   \u001b[39mreturn\u001b[39;00m \u001b[39mself\u001b[39;49m\u001b[39m.\u001b[39;49m_run_internal_graph(\n\u001b[0;32m    <a href='file:///c%3A/Users/hayte/Anaconda3/envs/ml/lib/site-packages/tensorflow/python/keras/engine/functional.py?line=385'>386</a>\u001b[0m       inputs, training\u001b[39m=\u001b[39;49mtraining, mask\u001b[39m=\u001b[39;49mmask)\n",
      "File \u001b[1;32m~\\Anaconda3\\envs\\ml\\lib\\site-packages\\tensorflow\\python\\keras\\engine\\functional.py:490\u001b[0m, in \u001b[0;36mFunctional._run_internal_graph\u001b[1;34m(self, inputs, training, mask)\u001b[0m\n\u001b[0;32m    <a href='file:///c%3A/Users/hayte/Anaconda3/envs/ml/lib/site-packages/tensorflow/python/keras/engine/functional.py?line=487'>488</a>\u001b[0m tensor_usage_count \u001b[39m=\u001b[39m \u001b[39mself\u001b[39m\u001b[39m.\u001b[39m_tensor_usage_count\n\u001b[0;32m    <a href='file:///c%3A/Users/hayte/Anaconda3/envs/ml/lib/site-packages/tensorflow/python/keras/engine/functional.py?line=488'>489</a>\u001b[0m \u001b[39mfor\u001b[39;00m x, y \u001b[39min\u001b[39;00m \u001b[39mzip\u001b[39m(\u001b[39mself\u001b[39m\u001b[39m.\u001b[39minputs, inputs):\n\u001b[1;32m--> <a href='file:///c%3A/Users/hayte/Anaconda3/envs/ml/lib/site-packages/tensorflow/python/keras/engine/functional.py?line=489'>490</a>\u001b[0m   y \u001b[39m=\u001b[39m \u001b[39mself\u001b[39;49m\u001b[39m.\u001b[39;49m_conform_to_reference_input(y, ref_input\u001b[39m=\u001b[39;49mx)\n\u001b[0;32m    <a href='file:///c%3A/Users/hayte/Anaconda3/envs/ml/lib/site-packages/tensorflow/python/keras/engine/functional.py?line=490'>491</a>\u001b[0m   x_id \u001b[39m=\u001b[39m \u001b[39mstr\u001b[39m(\u001b[39mid\u001b[39m(x))\n\u001b[0;32m    <a href='file:///c%3A/Users/hayte/Anaconda3/envs/ml/lib/site-packages/tensorflow/python/keras/engine/functional.py?line=491'>492</a>\u001b[0m   tensor_dict[x_id] \u001b[39m=\u001b[39m [y] \u001b[39m*\u001b[39m tensor_usage_count[x_id]\n",
      "File \u001b[1;32m~\\Anaconda3\\envs\\ml\\lib\\site-packages\\tensorflow\\python\\keras\\engine\\functional.py:593\u001b[0m, in \u001b[0;36mFunctional._conform_to_reference_input\u001b[1;34m(self, tensor, ref_input)\u001b[0m\n\u001b[0;32m    <a href='file:///c%3A/Users/hayte/Anaconda3/envs/ml/lib/site-packages/tensorflow/python/keras/engine/functional.py?line=589'>590</a>\u001b[0m   tensor \u001b[39m=\u001b[39m math_ops\u001b[39m.\u001b[39mcast(tensor, dtype\u001b[39m=\u001b[39mref_input\u001b[39m.\u001b[39mdtype)\n\u001b[0;32m    <a href='file:///c%3A/Users/hayte/Anaconda3/envs/ml/lib/site-packages/tensorflow/python/keras/engine/functional.py?line=590'>591</a>\u001b[0m \u001b[39melif\u001b[39;00m \u001b[39misinstance\u001b[39m(tensor, composite_tensor\u001b[39m.\u001b[39mCompositeTensor):\n\u001b[0;32m    <a href='file:///c%3A/Users/hayte/Anaconda3/envs/ml/lib/site-packages/tensorflow/python/keras/engine/functional.py?line=591'>592</a>\u001b[0m   \u001b[39m# Dtype casting.\u001b[39;00m\n\u001b[1;32m--> <a href='file:///c%3A/Users/hayte/Anaconda3/envs/ml/lib/site-packages/tensorflow/python/keras/engine/functional.py?line=592'>593</a>\u001b[0m   tensor \u001b[39m=\u001b[39m math_ops\u001b[39m.\u001b[39;49mcast(tensor, dtype\u001b[39m=\u001b[39;49mref_input\u001b[39m.\u001b[39;49mdtype)\n\u001b[0;32m    <a href='file:///c%3A/Users/hayte/Anaconda3/envs/ml/lib/site-packages/tensorflow/python/keras/engine/functional.py?line=594'>595</a>\u001b[0m \u001b[39mreturn\u001b[39;00m tensor\n",
      "File \u001b[1;32m~\\Anaconda3\\envs\\ml\\lib\\site-packages\\tensorflow\\python\\util\\dispatch.py:201\u001b[0m, in \u001b[0;36madd_dispatch_support.<locals>.wrapper\u001b[1;34m(*args, **kwargs)\u001b[0m\n\u001b[0;32m    <a href='file:///c%3A/Users/hayte/Anaconda3/envs/ml/lib/site-packages/tensorflow/python/util/dispatch.py?line=198'>199</a>\u001b[0m \u001b[39m\"\"\"Call target, and fall back on dispatchers if there is a TypeError.\"\"\"\u001b[39;00m\n\u001b[0;32m    <a href='file:///c%3A/Users/hayte/Anaconda3/envs/ml/lib/site-packages/tensorflow/python/util/dispatch.py?line=199'>200</a>\u001b[0m \u001b[39mtry\u001b[39;00m:\n\u001b[1;32m--> <a href='file:///c%3A/Users/hayte/Anaconda3/envs/ml/lib/site-packages/tensorflow/python/util/dispatch.py?line=200'>201</a>\u001b[0m   \u001b[39mreturn\u001b[39;00m target(\u001b[39m*\u001b[39;49margs, \u001b[39m*\u001b[39;49m\u001b[39m*\u001b[39;49mkwargs)\n\u001b[0;32m    <a href='file:///c%3A/Users/hayte/Anaconda3/envs/ml/lib/site-packages/tensorflow/python/util/dispatch.py?line=201'>202</a>\u001b[0m \u001b[39mexcept\u001b[39;00m (\u001b[39mTypeError\u001b[39;00m, \u001b[39mValueError\u001b[39;00m):\n\u001b[0;32m    <a href='file:///c%3A/Users/hayte/Anaconda3/envs/ml/lib/site-packages/tensorflow/python/util/dispatch.py?line=202'>203</a>\u001b[0m   \u001b[39m# Note: convert_to_eager_tensor currently raises a ValueError, not a\u001b[39;00m\n\u001b[0;32m    <a href='file:///c%3A/Users/hayte/Anaconda3/envs/ml/lib/site-packages/tensorflow/python/util/dispatch.py?line=203'>204</a>\u001b[0m   \u001b[39m# TypeError, when given unexpected types.  So we need to catch both.\u001b[39;00m\n\u001b[0;32m    <a href='file:///c%3A/Users/hayte/Anaconda3/envs/ml/lib/site-packages/tensorflow/python/util/dispatch.py?line=204'>205</a>\u001b[0m   result \u001b[39m=\u001b[39m dispatch(wrapper, args, kwargs)\n",
      "File \u001b[1;32m~\\Anaconda3\\envs\\ml\\lib\\site-packages\\tensorflow\\python\\ops\\math_ops.py:921\u001b[0m, in \u001b[0;36mcast\u001b[1;34m(x, dtype, name)\u001b[0m\n\u001b[0;32m    <a href='file:///c%3A/Users/hayte/Anaconda3/envs/ml/lib/site-packages/tensorflow/python/ops/math_ops.py?line=914'>915</a>\u001b[0m   x \u001b[39m=\u001b[39m ops\u001b[39m.\u001b[39mIndexedSlices(values_cast, x\u001b[39m.\u001b[39mindices, x\u001b[39m.\u001b[39mdense_shape)\n\u001b[0;32m    <a href='file:///c%3A/Users/hayte/Anaconda3/envs/ml/lib/site-packages/tensorflow/python/ops/math_ops.py?line=915'>916</a>\u001b[0m \u001b[39melse\u001b[39;00m:\n\u001b[0;32m    <a href='file:///c%3A/Users/hayte/Anaconda3/envs/ml/lib/site-packages/tensorflow/python/ops/math_ops.py?line=916'>917</a>\u001b[0m   \u001b[39m# TODO(josh11b): If x is not already a Tensor, we could return\u001b[39;00m\n\u001b[0;32m    <a href='file:///c%3A/Users/hayte/Anaconda3/envs/ml/lib/site-packages/tensorflow/python/ops/math_ops.py?line=917'>918</a>\u001b[0m   \u001b[39m# ops.convert_to_tensor(x, dtype=dtype, ...)  here, but that\u001b[39;00m\n\u001b[0;32m    <a href='file:///c%3A/Users/hayte/Anaconda3/envs/ml/lib/site-packages/tensorflow/python/ops/math_ops.py?line=918'>919</a>\u001b[0m   \u001b[39m# allows some conversions that cast() can't do, e.g. casting numbers to\u001b[39;00m\n\u001b[0;32m    <a href='file:///c%3A/Users/hayte/Anaconda3/envs/ml/lib/site-packages/tensorflow/python/ops/math_ops.py?line=919'>920</a>\u001b[0m   \u001b[39m# strings.\u001b[39;00m\n\u001b[1;32m--> <a href='file:///c%3A/Users/hayte/Anaconda3/envs/ml/lib/site-packages/tensorflow/python/ops/math_ops.py?line=920'>921</a>\u001b[0m   x \u001b[39m=\u001b[39m ops\u001b[39m.\u001b[39;49mconvert_to_tensor(x, name\u001b[39m=\u001b[39;49m\u001b[39m\"\u001b[39;49m\u001b[39mx\u001b[39;49m\u001b[39m\"\u001b[39;49m)\n\u001b[0;32m    <a href='file:///c%3A/Users/hayte/Anaconda3/envs/ml/lib/site-packages/tensorflow/python/ops/math_ops.py?line=921'>922</a>\u001b[0m   \u001b[39mif\u001b[39;00m x\u001b[39m.\u001b[39mdtype\u001b[39m.\u001b[39mbase_dtype \u001b[39m!=\u001b[39m base_type:\n\u001b[0;32m    <a href='file:///c%3A/Users/hayte/Anaconda3/envs/ml/lib/site-packages/tensorflow/python/ops/math_ops.py?line=922'>923</a>\u001b[0m     x \u001b[39m=\u001b[39m gen_math_ops\u001b[39m.\u001b[39mcast(x, base_type, name\u001b[39m=\u001b[39mname)\n",
      "File \u001b[1;32m~\\Anaconda3\\envs\\ml\\lib\\site-packages\\tensorflow\\python\\framework\\ops.py:1499\u001b[0m, in \u001b[0;36mconvert_to_tensor\u001b[1;34m(value, dtype, name, as_ref, preferred_dtype, dtype_hint, ctx, accepted_result_types)\u001b[0m\n\u001b[0;32m   <a href='file:///c%3A/Users/hayte/Anaconda3/envs/ml/lib/site-packages/tensorflow/python/framework/ops.py?line=1493'>1494</a>\u001b[0m       \u001b[39mraise\u001b[39;00m \u001b[39mTypeError\u001b[39;00m(\u001b[39m\"\u001b[39m\u001b[39mconvert_to_tensor did not convert to \u001b[39m\u001b[39m\"\u001b[39m\n\u001b[0;32m   <a href='file:///c%3A/Users/hayte/Anaconda3/envs/ml/lib/site-packages/tensorflow/python/framework/ops.py?line=1494'>1495</a>\u001b[0m                       \u001b[39m\"\u001b[39m\u001b[39mthe preferred dtype: \u001b[39m\u001b[39m%s\u001b[39;00m\u001b[39m vs \u001b[39m\u001b[39m%s\u001b[39;00m\u001b[39m \u001b[39m\u001b[39m\"\u001b[39m \u001b[39m%\u001b[39m\n\u001b[0;32m   <a href='file:///c%3A/Users/hayte/Anaconda3/envs/ml/lib/site-packages/tensorflow/python/framework/ops.py?line=1495'>1496</a>\u001b[0m                       (ret\u001b[39m.\u001b[39mdtype\u001b[39m.\u001b[39mbase_dtype, preferred_dtype\u001b[39m.\u001b[39mbase_dtype))\n\u001b[0;32m   <a href='file:///c%3A/Users/hayte/Anaconda3/envs/ml/lib/site-packages/tensorflow/python/framework/ops.py?line=1497'>1498</a>\u001b[0m \u001b[39mif\u001b[39;00m ret \u001b[39mis\u001b[39;00m \u001b[39mNone\u001b[39;00m:\n\u001b[1;32m-> <a href='file:///c%3A/Users/hayte/Anaconda3/envs/ml/lib/site-packages/tensorflow/python/framework/ops.py?line=1498'>1499</a>\u001b[0m   ret \u001b[39m=\u001b[39m conversion_func(value, dtype\u001b[39m=\u001b[39;49mdtype, name\u001b[39m=\u001b[39;49mname, as_ref\u001b[39m=\u001b[39;49mas_ref)\n\u001b[0;32m   <a href='file:///c%3A/Users/hayte/Anaconda3/envs/ml/lib/site-packages/tensorflow/python/framework/ops.py?line=1500'>1501</a>\u001b[0m \u001b[39mif\u001b[39;00m ret \u001b[39mis\u001b[39;00m \u001b[39mNotImplemented\u001b[39m:\n\u001b[0;32m   <a href='file:///c%3A/Users/hayte/Anaconda3/envs/ml/lib/site-packages/tensorflow/python/framework/ops.py?line=1501'>1502</a>\u001b[0m   \u001b[39mcontinue\u001b[39;00m\n",
      "File \u001b[1;32m~\\Anaconda3\\envs\\ml\\lib\\site-packages\\tensorflow\\python\\framework\\constant_op.py:338\u001b[0m, in \u001b[0;36m_constant_tensor_conversion_function\u001b[1;34m(v, dtype, name, as_ref)\u001b[0m\n\u001b[0;32m    <a href='file:///c%3A/Users/hayte/Anaconda3/envs/ml/lib/site-packages/tensorflow/python/framework/constant_op.py?line=334'>335</a>\u001b[0m \u001b[39mdef\u001b[39;00m \u001b[39m_constant_tensor_conversion_function\u001b[39m(v, dtype\u001b[39m=\u001b[39m\u001b[39mNone\u001b[39;00m, name\u001b[39m=\u001b[39m\u001b[39mNone\u001b[39;00m,\n\u001b[0;32m    <a href='file:///c%3A/Users/hayte/Anaconda3/envs/ml/lib/site-packages/tensorflow/python/framework/constant_op.py?line=335'>336</a>\u001b[0m                                          as_ref\u001b[39m=\u001b[39m\u001b[39mFalse\u001b[39;00m):\n\u001b[0;32m    <a href='file:///c%3A/Users/hayte/Anaconda3/envs/ml/lib/site-packages/tensorflow/python/framework/constant_op.py?line=336'>337</a>\u001b[0m   _ \u001b[39m=\u001b[39m as_ref\n\u001b[1;32m--> <a href='file:///c%3A/Users/hayte/Anaconda3/envs/ml/lib/site-packages/tensorflow/python/framework/constant_op.py?line=337'>338</a>\u001b[0m   \u001b[39mreturn\u001b[39;00m constant(v, dtype\u001b[39m=\u001b[39;49mdtype, name\u001b[39m=\u001b[39;49mname)\n",
      "File \u001b[1;32m~\\Anaconda3\\envs\\ml\\lib\\site-packages\\tensorflow\\python\\framework\\constant_op.py:263\u001b[0m, in \u001b[0;36mconstant\u001b[1;34m(value, dtype, shape, name)\u001b[0m\n\u001b[0;32m    <a href='file:///c%3A/Users/hayte/Anaconda3/envs/ml/lib/site-packages/tensorflow/python/framework/constant_op.py?line=165'>166</a>\u001b[0m \u001b[39m@tf_export\u001b[39m(\u001b[39m\"\u001b[39m\u001b[39mconstant\u001b[39m\u001b[39m\"\u001b[39m, v1\u001b[39m=\u001b[39m[])\n\u001b[0;32m    <a href='file:///c%3A/Users/hayte/Anaconda3/envs/ml/lib/site-packages/tensorflow/python/framework/constant_op.py?line=166'>167</a>\u001b[0m \u001b[39mdef\u001b[39;00m \u001b[39mconstant\u001b[39m(value, dtype\u001b[39m=\u001b[39m\u001b[39mNone\u001b[39;00m, shape\u001b[39m=\u001b[39m\u001b[39mNone\u001b[39;00m, name\u001b[39m=\u001b[39m\u001b[39m\"\u001b[39m\u001b[39mConst\u001b[39m\u001b[39m\"\u001b[39m):\n\u001b[0;32m    <a href='file:///c%3A/Users/hayte/Anaconda3/envs/ml/lib/site-packages/tensorflow/python/framework/constant_op.py?line=167'>168</a>\u001b[0m   \u001b[39m\"\"\"Creates a constant tensor from a tensor-like object.\u001b[39;00m\n\u001b[0;32m    <a href='file:///c%3A/Users/hayte/Anaconda3/envs/ml/lib/site-packages/tensorflow/python/framework/constant_op.py?line=168'>169</a>\u001b[0m \n\u001b[0;32m    <a href='file:///c%3A/Users/hayte/Anaconda3/envs/ml/lib/site-packages/tensorflow/python/framework/constant_op.py?line=169'>170</a>\u001b[0m \u001b[39m  Note: All eager `tf.Tensor` values are immutable (in contrast to\u001b[39;00m\n\u001b[1;32m   (...)\u001b[0m\n\u001b[0;32m    <a href='file:///c%3A/Users/hayte/Anaconda3/envs/ml/lib/site-packages/tensorflow/python/framework/constant_op.py?line=260'>261</a>\u001b[0m \u001b[39m    ValueError: if called on a symbolic tensor.\u001b[39;00m\n\u001b[0;32m    <a href='file:///c%3A/Users/hayte/Anaconda3/envs/ml/lib/site-packages/tensorflow/python/framework/constant_op.py?line=261'>262</a>\u001b[0m \u001b[39m  \"\"\"\u001b[39;00m\n\u001b[1;32m--> <a href='file:///c%3A/Users/hayte/Anaconda3/envs/ml/lib/site-packages/tensorflow/python/framework/constant_op.py?line=262'>263</a>\u001b[0m   \u001b[39mreturn\u001b[39;00m _constant_impl(value, dtype, shape, name, verify_shape\u001b[39m=\u001b[39;49m\u001b[39mFalse\u001b[39;49;00m,\n\u001b[0;32m    <a href='file:///c%3A/Users/hayte/Anaconda3/envs/ml/lib/site-packages/tensorflow/python/framework/constant_op.py?line=263'>264</a>\u001b[0m                         allow_broadcast\u001b[39m=\u001b[39;49m\u001b[39mTrue\u001b[39;49;00m)\n",
      "File \u001b[1;32m~\\Anaconda3\\envs\\ml\\lib\\site-packages\\tensorflow\\python\\framework\\constant_op.py:275\u001b[0m, in \u001b[0;36m_constant_impl\u001b[1;34m(value, dtype, shape, name, verify_shape, allow_broadcast)\u001b[0m\n\u001b[0;32m    <a href='file:///c%3A/Users/hayte/Anaconda3/envs/ml/lib/site-packages/tensorflow/python/framework/constant_op.py?line=272'>273</a>\u001b[0m     \u001b[39mwith\u001b[39;00m trace\u001b[39m.\u001b[39mTrace(\u001b[39m\"\u001b[39m\u001b[39mtf.constant\u001b[39m\u001b[39m\"\u001b[39m):\n\u001b[0;32m    <a href='file:///c%3A/Users/hayte/Anaconda3/envs/ml/lib/site-packages/tensorflow/python/framework/constant_op.py?line=273'>274</a>\u001b[0m       \u001b[39mreturn\u001b[39;00m _constant_eager_impl(ctx, value, dtype, shape, verify_shape)\n\u001b[1;32m--> <a href='file:///c%3A/Users/hayte/Anaconda3/envs/ml/lib/site-packages/tensorflow/python/framework/constant_op.py?line=274'>275</a>\u001b[0m   \u001b[39mreturn\u001b[39;00m _constant_eager_impl(ctx, value, dtype, shape, verify_shape)\n\u001b[0;32m    <a href='file:///c%3A/Users/hayte/Anaconda3/envs/ml/lib/site-packages/tensorflow/python/framework/constant_op.py?line=276'>277</a>\u001b[0m g \u001b[39m=\u001b[39m ops\u001b[39m.\u001b[39mget_default_graph()\n\u001b[0;32m    <a href='file:///c%3A/Users/hayte/Anaconda3/envs/ml/lib/site-packages/tensorflow/python/framework/constant_op.py?line=277'>278</a>\u001b[0m tensor_value \u001b[39m=\u001b[39m attr_value_pb2\u001b[39m.\u001b[39mAttrValue()\n",
      "File \u001b[1;32m~\\Anaconda3\\envs\\ml\\lib\\site-packages\\tensorflow\\python\\framework\\constant_op.py:300\u001b[0m, in \u001b[0;36m_constant_eager_impl\u001b[1;34m(ctx, value, dtype, shape, verify_shape)\u001b[0m\n\u001b[0;32m    <a href='file:///c%3A/Users/hayte/Anaconda3/envs/ml/lib/site-packages/tensorflow/python/framework/constant_op.py?line=297'>298</a>\u001b[0m \u001b[39mdef\u001b[39;00m \u001b[39m_constant_eager_impl\u001b[39m(ctx, value, dtype, shape, verify_shape):\n\u001b[0;32m    <a href='file:///c%3A/Users/hayte/Anaconda3/envs/ml/lib/site-packages/tensorflow/python/framework/constant_op.py?line=298'>299</a>\u001b[0m   \u001b[39m\"\"\"Implementation of eager constant.\"\"\"\u001b[39;00m\n\u001b[1;32m--> <a href='file:///c%3A/Users/hayte/Anaconda3/envs/ml/lib/site-packages/tensorflow/python/framework/constant_op.py?line=299'>300</a>\u001b[0m   t \u001b[39m=\u001b[39m convert_to_eager_tensor(value, ctx, dtype)\n\u001b[0;32m    <a href='file:///c%3A/Users/hayte/Anaconda3/envs/ml/lib/site-packages/tensorflow/python/framework/constant_op.py?line=300'>301</a>\u001b[0m   \u001b[39mif\u001b[39;00m shape \u001b[39mis\u001b[39;00m \u001b[39mNone\u001b[39;00m:\n\u001b[0;32m    <a href='file:///c%3A/Users/hayte/Anaconda3/envs/ml/lib/site-packages/tensorflow/python/framework/constant_op.py?line=301'>302</a>\u001b[0m     \u001b[39mreturn\u001b[39;00m t\n",
      "File \u001b[1;32m~\\Anaconda3\\envs\\ml\\lib\\site-packages\\tensorflow\\python\\framework\\constant_op.py:98\u001b[0m, in \u001b[0;36mconvert_to_eager_tensor\u001b[1;34m(value, ctx, dtype)\u001b[0m\n\u001b[0;32m     <a href='file:///c%3A/Users/hayte/Anaconda3/envs/ml/lib/site-packages/tensorflow/python/framework/constant_op.py?line=95'>96</a>\u001b[0m     dtype \u001b[39m=\u001b[39m dtypes\u001b[39m.\u001b[39mas_dtype(dtype)\u001b[39m.\u001b[39mas_datatype_enum\n\u001b[0;32m     <a href='file:///c%3A/Users/hayte/Anaconda3/envs/ml/lib/site-packages/tensorflow/python/framework/constant_op.py?line=96'>97</a>\u001b[0m ctx\u001b[39m.\u001b[39mensure_initialized()\n\u001b[1;32m---> <a href='file:///c%3A/Users/hayte/Anaconda3/envs/ml/lib/site-packages/tensorflow/python/framework/constant_op.py?line=97'>98</a>\u001b[0m \u001b[39mreturn\u001b[39;00m ops\u001b[39m.\u001b[39;49mEagerTensor(value, ctx\u001b[39m.\u001b[39;49mdevice_name, dtype)\n",
      "\u001b[1;31mValueError\u001b[0m: Attempt to convert a value (<BatchDataset shapes: ((None, 64, 64, 3), (None,)), types: (tf.float32, tf.int32)>) with an unsupported type (<class 'tensorflow.python.data.ops.dataset_ops.BatchDataset'>) to a Tensor."
     ]
    }
   ],
   "source": [
    "model(val_ds)"
   ]
  }
 ],
 "metadata": {
  "interpreter": {
   "hash": "05ddc6ec5474a1f626a2be7b32cdbbeeb8d0940e4dc5109586420296a02a5144"
  },
  "kernelspec": {
   "display_name": "Python 3.8.12 ('ml')",
   "language": "python",
   "name": "python3"
  },
  "language_info": {
   "codemirror_mode": {
    "name": "ipython",
    "version": 3
   },
   "file_extension": ".py",
   "mimetype": "text/x-python",
   "name": "python",
   "nbconvert_exporter": "python",
   "pygments_lexer": "ipython3",
   "version": "3.8.12"
  },
  "orig_nbformat": 4
 },
 "nbformat": 4,
 "nbformat_minor": 2
}
